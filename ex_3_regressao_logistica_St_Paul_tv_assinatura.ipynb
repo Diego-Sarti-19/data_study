{
 "cells": [
  {
   "cell_type": "code",
   "execution_count": 1,
   "metadata": {},
   "outputs": [],
   "source": [
    "# Pagamento teve por assinatura\n",
    "import pandas as pd\n",
    "import numpy as np\n",
    "\n",
    "import seaborn as sns\n",
    "import statsmodels.api as sm\n",
    "\n",
    "import matplotlib.pyplot as plt\n",
    "from sklearn.metrics import roc_curve, auc\n",
    "\n",
    "from sklearn.metrics import confusion_matrix\n",
    "from sklearn.metrics import roc_curve, auc"
   ]
  },
  {
   "cell_type": "code",
   "execution_count": 14,
   "metadata": {},
   "outputs": [],
   "source": [
    "fonte = 'https://raw.githubusercontent.com/Diego-Sarti-19/SSarti_Dados_GIT/main/Regressao_Logistica_Assinatura.csv?raw=true'"
   ]
  },
  {
   "cell_type": "code",
   "execution_count": 15,
   "metadata": {},
   "outputs": [],
   "source": [
    "data_set = pd.read_csv(fonte, sep =';')"
   ]
  },
  {
   "cell_type": "code",
   "execution_count": 16,
   "metadata": {},
   "outputs": [
    {
     "data": {
      "text/html": [
       "<div>\n",
       "<style scoped>\n",
       "    .dataframe tbody tr th:only-of-type {\n",
       "        vertical-align: middle;\n",
       "    }\n",
       "\n",
       "    .dataframe tbody tr th {\n",
       "        vertical-align: top;\n",
       "    }\n",
       "\n",
       "    .dataframe thead th {\n",
       "        text-align: right;\n",
       "    }\n",
       "</style>\n",
       "<table border=\"1\" class=\"dataframe\">\n",
       "  <thead>\n",
       "    <tr style=\"text-align: right;\">\n",
       "      <th></th>\n",
       "      <th>id</th>\n",
       "      <th>idade</th>\n",
       "      <th>linhas</th>\n",
       "      <th>temp_cli</th>\n",
       "      <th>renda</th>\n",
       "      <th>fatura</th>\n",
       "      <th>temp_rsd</th>\n",
       "      <th>tvcabo</th>\n",
       "      <th>debaut</th>\n",
       "      <th>cancel</th>\n",
       "    </tr>\n",
       "  </thead>\n",
       "  <tbody>\n",
       "    <tr>\n",
       "      <th>0</th>\n",
       "      <td>1</td>\n",
       "      <td>51</td>\n",
       "      <td>4</td>\n",
       "      <td>26</td>\n",
       "      <td>5320,00</td>\n",
       "      <td>543</td>\n",
       "      <td>7,3</td>\n",
       "      <td>1</td>\n",
       "      <td>0</td>\n",
       "      <td>0</td>\n",
       "    </tr>\n",
       "    <tr>\n",
       "      <th>1</th>\n",
       "      <td>2</td>\n",
       "      <td>36</td>\n",
       "      <td>2</td>\n",
       "      <td>16</td>\n",
       "      <td>5620,00</td>\n",
       "      <td>482</td>\n",
       "      <td>4,5</td>\n",
       "      <td>1</td>\n",
       "      <td>0</td>\n",
       "      <td>0</td>\n",
       "    </tr>\n",
       "    <tr>\n",
       "      <th>2</th>\n",
       "      <td>3</td>\n",
       "      <td>35</td>\n",
       "      <td>1</td>\n",
       "      <td>15</td>\n",
       "      <td>4860,00</td>\n",
       "      <td>593</td>\n",
       "      <td>4,8</td>\n",
       "      <td>0</td>\n",
       "      <td>0</td>\n",
       "      <td>0</td>\n",
       "    </tr>\n",
       "    <tr>\n",
       "      <th>3</th>\n",
       "      <td>5</td>\n",
       "      <td>40</td>\n",
       "      <td>1</td>\n",
       "      <td>22</td>\n",
       "      <td>6590,00</td>\n",
       "      <td>1184</td>\n",
       "      <td>6,2</td>\n",
       "      <td>1</td>\n",
       "      <td>0</td>\n",
       "      <td>0</td>\n",
       "    </tr>\n",
       "    <tr>\n",
       "      <th>4</th>\n",
       "      <td>6</td>\n",
       "      <td>52</td>\n",
       "      <td>1</td>\n",
       "      <td>30</td>\n",
       "      <td>6370,00</td>\n",
       "      <td>634</td>\n",
       "      <td>2,2</td>\n",
       "      <td>0</td>\n",
       "      <td>0</td>\n",
       "      <td>0</td>\n",
       "    </tr>\n",
       "  </tbody>\n",
       "</table>\n",
       "</div>"
      ],
      "text/plain": [
       "   id  idade  linhas  temp_cli    renda  fatura temp_rsd  tvcabo  debaut  \\\n",
       "0   1     51       4        26  5320,00     543      7,3       1       0   \n",
       "1   2     36       2        16  5620,00     482      4,5       1       0   \n",
       "2   3     35       1        15  4860,00     593      4,8       0       0   \n",
       "3   5     40       1        22  6590,00    1184      6,2       1       0   \n",
       "4   6     52       1        30  6370,00     634      2,2       0       0   \n",
       "\n",
       "   cancel  \n",
       "0       0  \n",
       "1       0  \n",
       "2       0  \n",
       "3       0  \n",
       "4       0  "
      ]
     },
     "execution_count": 16,
     "metadata": {},
     "output_type": "execute_result"
    }
   ],
   "source": [
    "data_set.head(5)"
   ]
  },
  {
   "cell_type": "code",
   "execution_count": 17,
   "metadata": {},
   "outputs": [
    {
     "name": "stdout",
     "output_type": "stream",
     "text": [
      "<class 'pandas.core.frame.DataFrame'>\n",
      "RangeIndex: 1999 entries, 0 to 1998\n",
      "Data columns (total 10 columns):\n",
      " #   Column    Non-Null Count  Dtype \n",
      "---  ------    --------------  ----- \n",
      " 0   id        1999 non-null   int64 \n",
      " 1   idade     1999 non-null   int64 \n",
      " 2   linhas    1999 non-null   int64 \n",
      " 3   temp_cli  1999 non-null   int64 \n",
      " 4   renda     1999 non-null   object\n",
      " 5   fatura    1999 non-null   int64 \n",
      " 6   temp_rsd  1999 non-null   object\n",
      " 7   tvcabo    1999 non-null   int64 \n",
      " 8   debaut    1999 non-null   int64 \n",
      " 9   cancel    1999 non-null   int64 \n",
      "dtypes: int64(8), object(2)\n",
      "memory usage: 156.3+ KB\n"
     ]
    }
   ],
   "source": [
    "data_set.info()"
   ]
  },
  {
   "cell_type": "code",
   "execution_count": 18,
   "metadata": {},
   "outputs": [],
   "source": [
    "# corrigindo dados - trocando , por '.' e mudando para float\n",
    "data_set['temp_rsd'] = data_set['temp_rsd'].str.replace(',','.')\n",
    "data_set['renda'] = data_set['renda'].str.replace(',','.')"
   ]
  },
  {
   "cell_type": "code",
   "execution_count": 19,
   "metadata": {},
   "outputs": [],
   "source": [
    "# convertendo para float\n",
    "data_set['renda'] = data_set['renda'].astype(float)\n",
    "data_set['temp_rsd'] = data_set['temp_rsd'].astype('float')"
   ]
  },
  {
   "cell_type": "code",
   "execution_count": 20,
   "metadata": {},
   "outputs": [
    {
     "data": {
      "text/html": [
       "<div>\n",
       "<style scoped>\n",
       "    .dataframe tbody tr th:only-of-type {\n",
       "        vertical-align: middle;\n",
       "    }\n",
       "\n",
       "    .dataframe tbody tr th {\n",
       "        vertical-align: top;\n",
       "    }\n",
       "\n",
       "    .dataframe thead th {\n",
       "        text-align: right;\n",
       "    }\n",
       "</style>\n",
       "<table border=\"1\" class=\"dataframe\">\n",
       "  <thead>\n",
       "    <tr style=\"text-align: right;\">\n",
       "      <th></th>\n",
       "      <th>id</th>\n",
       "      <th>idade</th>\n",
       "      <th>linhas</th>\n",
       "      <th>temp_cli</th>\n",
       "      <th>renda</th>\n",
       "      <th>fatura</th>\n",
       "      <th>temp_rsd</th>\n",
       "      <th>tvcabo</th>\n",
       "      <th>debaut</th>\n",
       "      <th>cancel</th>\n",
       "    </tr>\n",
       "  </thead>\n",
       "  <tbody>\n",
       "    <tr>\n",
       "      <th>0</th>\n",
       "      <td>1</td>\n",
       "      <td>51</td>\n",
       "      <td>4</td>\n",
       "      <td>26</td>\n",
       "      <td>5320.0</td>\n",
       "      <td>543</td>\n",
       "      <td>7.3</td>\n",
       "      <td>1</td>\n",
       "      <td>0</td>\n",
       "      <td>0</td>\n",
       "    </tr>\n",
       "    <tr>\n",
       "      <th>1</th>\n",
       "      <td>2</td>\n",
       "      <td>36</td>\n",
       "      <td>2</td>\n",
       "      <td>16</td>\n",
       "      <td>5620.0</td>\n",
       "      <td>482</td>\n",
       "      <td>4.5</td>\n",
       "      <td>1</td>\n",
       "      <td>0</td>\n",
       "      <td>0</td>\n",
       "    </tr>\n",
       "    <tr>\n",
       "      <th>2</th>\n",
       "      <td>3</td>\n",
       "      <td>35</td>\n",
       "      <td>1</td>\n",
       "      <td>15</td>\n",
       "      <td>4860.0</td>\n",
       "      <td>593</td>\n",
       "      <td>4.8</td>\n",
       "      <td>0</td>\n",
       "      <td>0</td>\n",
       "      <td>0</td>\n",
       "    </tr>\n",
       "  </tbody>\n",
       "</table>\n",
       "</div>"
      ],
      "text/plain": [
       "   id  idade  linhas  temp_cli   renda  fatura  temp_rsd  tvcabo  debaut  \\\n",
       "0   1     51       4        26  5320.0     543       7.3       1       0   \n",
       "1   2     36       2        16  5620.0     482       4.5       1       0   \n",
       "2   3     35       1        15  4860.0     593       4.8       0       0   \n",
       "\n",
       "   cancel  \n",
       "0       0  \n",
       "1       0  \n",
       "2       0  "
      ]
     },
     "execution_count": 20,
     "metadata": {},
     "output_type": "execute_result"
    }
   ],
   "source": [
    "data_set.head(3)"
   ]
  },
  {
   "cell_type": "code",
   "execution_count": 24,
   "metadata": {},
   "outputs": [],
   "source": [
    "# Separando a variável dependente e independente\n",
    "y = data_set['cancel']"
   ]
  },
  {
   "cell_type": "code",
   "execution_count": 25,
   "metadata": {},
   "outputs": [
    {
     "data": {
      "text/plain": [
       "Index(['id', 'idade', 'linhas', 'temp_cli', 'renda', 'fatura', 'temp_rsd',\n",
       "       'tvcabo', 'debaut', 'cancel'],\n",
       "      dtype='object')"
      ]
     },
     "execution_count": 25,
     "metadata": {},
     "output_type": "execute_result"
    }
   ],
   "source": [
    "data_set.columns"
   ]
  },
  {
   "cell_type": "code",
   "execution_count": 33,
   "metadata": {},
   "outputs": [],
   "source": [
    "x = data_set[[\n",
    "              'idade',\n",
    "#              'linhas',\n",
    "              'temp_cli',\n",
    "#              'renda',\n",
    "              'fatura',\n",
    "#              'temp_rsd',\n",
    "#              'tvcabo',\n",
    "#              'debaut',\n",
    "                    ]]"
   ]
  },
  {
   "cell_type": "code",
   "execution_count": 34,
   "metadata": {},
   "outputs": [],
   "source": [
    "# acrescenta intercepto\n",
    "x = sm.add_constant(x)\n",
    "sm_model = sm.Logit(y, x).fit(disp=0)\n"
   ]
  },
  {
   "cell_type": "code",
   "execution_count": 35,
   "metadata": {},
   "outputs": [],
   "source": [
    "y_predict = sm_model.predict(x)"
   ]
  },
  {
   "cell_type": "code",
   "execution_count": 36,
   "metadata": {},
   "outputs": [
    {
     "data": {
      "text/html": [
       "<table class=\"simpletable\">\n",
       "<caption>Logit Regression Results</caption>\n",
       "<tr>\n",
       "  <th>Dep. Variable:</th>        <td>cancel</td>      <th>  No. Observations:  </th>   <td>  1999</td>  \n",
       "</tr>\n",
       "<tr>\n",
       "  <th>Model:</th>                 <td>Logit</td>      <th>  Df Residuals:      </th>   <td>  1995</td>  \n",
       "</tr>\n",
       "<tr>\n",
       "  <th>Method:</th>                 <td>MLE</td>       <th>  Df Model:          </th>   <td>     3</td>  \n",
       "</tr>\n",
       "<tr>\n",
       "  <th>Date:</th>            <td>Thu, 08 Jun 2023</td> <th>  Pseudo R-squ.:     </th>   <td>0.2375</td>  \n",
       "</tr>\n",
       "<tr>\n",
       "  <th>Time:</th>                <td>18:58:53</td>     <th>  Log-Likelihood:    </th>  <td> -837.57</td> \n",
       "</tr>\n",
       "<tr>\n",
       "  <th>converged:</th>             <td>True</td>       <th>  LL-Null:           </th>  <td> -1098.4</td> \n",
       "</tr>\n",
       "<tr>\n",
       "  <th>Covariance Type:</th>     <td>nonrobust</td>    <th>  LLR p-value:       </th> <td>9.509e-113</td>\n",
       "</tr>\n",
       "</table>\n",
       "<table class=\"simpletable\">\n",
       "<tr>\n",
       "      <td></td>        <th>coef</th>     <th>std err</th>      <th>z</th>      <th>P>|z|</th>  <th>[0.025</th>    <th>0.975]</th>  \n",
       "</tr>\n",
       "<tr>\n",
       "  <th>const</th>    <td>    2.5467</td> <td>    0.323</td> <td>    7.877</td> <td> 0.000</td> <td>    1.913</td> <td>    3.180</td>\n",
       "</tr>\n",
       "<tr>\n",
       "  <th>idade</th>    <td>   -0.0429</td> <td>    0.009</td> <td>   -4.708</td> <td> 0.000</td> <td>   -0.061</td> <td>   -0.025</td>\n",
       "</tr>\n",
       "<tr>\n",
       "  <th>temp_cli</th> <td>   -0.1955</td> <td>    0.014</td> <td>  -13.530</td> <td> 0.000</td> <td>   -0.224</td> <td>   -0.167</td>\n",
       "</tr>\n",
       "<tr>\n",
       "  <th>fatura</th>   <td>    0.0019</td> <td>    0.000</td> <td>   15.796</td> <td> 0.000</td> <td>    0.002</td> <td>    0.002</td>\n",
       "</tr>\n",
       "</table>"
      ],
      "text/plain": [
       "<class 'statsmodels.iolib.summary.Summary'>\n",
       "\"\"\"\n",
       "                           Logit Regression Results                           \n",
       "==============================================================================\n",
       "Dep. Variable:                 cancel   No. Observations:                 1999\n",
       "Model:                          Logit   Df Residuals:                     1995\n",
       "Method:                           MLE   Df Model:                            3\n",
       "Date:                Thu, 08 Jun 2023   Pseudo R-squ.:                  0.2375\n",
       "Time:                        18:58:53   Log-Likelihood:                -837.57\n",
       "converged:                       True   LL-Null:                       -1098.4\n",
       "Covariance Type:            nonrobust   LLR p-value:                9.509e-113\n",
       "==============================================================================\n",
       "                 coef    std err          z      P>|z|      [0.025      0.975]\n",
       "------------------------------------------------------------------------------\n",
       "const          2.5467      0.323      7.877      0.000       1.913       3.180\n",
       "idade         -0.0429      0.009     -4.708      0.000      -0.061      -0.025\n",
       "temp_cli      -0.1955      0.014    -13.530      0.000      -0.224      -0.167\n",
       "fatura         0.0019      0.000     15.796      0.000       0.002       0.002\n",
       "==============================================================================\n",
       "\"\"\""
      ]
     },
     "execution_count": 36,
     "metadata": {},
     "output_type": "execute_result"
    }
   ],
   "source": [
    "sm_model.summary()"
   ]
  },
  {
   "cell_type": "code",
   "execution_count": 37,
   "metadata": {},
   "outputs": [],
   "source": [
    "from sklearn.metrics import classification_report\n",
    "from sklearn.metrics import plot_confusion_matrix"
   ]
  },
  {
   "cell_type": "code",
   "execution_count": 38,
   "metadata": {},
   "outputs": [],
   "source": [
    "y_prob = sm_model.predict(x)\n",
    "# Convertendo saída para um DataFrrame\n",
    "y_prob_df =pd.DataFrame(y_prob, columns=['probabilidade_y'])"
   ]
  },
  {
   "cell_type": "code",
   "execution_count": 39,
   "metadata": {},
   "outputs": [],
   "source": [
    "# Adiciona uma coluna com base em uma sentença condicional\n",
    "y_prob_df['previsto'] = [1 if probabilidade_y > 0.5 else 0 for probabilidade_y in y_prob_df['probabilidade_y']]\n",
    "y_predict = y_prob_df['previsto'].astype('int64')"
   ]
  },
  {
   "cell_type": "code",
   "execution_count": 40,
   "metadata": {},
   "outputs": [],
   "source": [
    "y_prob = sm_model.predict(x)\n",
    "# COnvertendo saída para um DataFrrame\n",
    "y_prob_df =pd.DataFrame(y_prob, columns=['probabilidade_y'])"
   ]
  },
  {
   "cell_type": "code",
   "execution_count": 41,
   "metadata": {},
   "outputs": [
    {
     "name": "stdout",
     "output_type": "stream",
     "text": [
      "              precision    recall  f1-score   support\n",
      "\n",
      "           0       0.83      0.94      0.88      1522\n",
      "           1       0.65      0.37      0.47       477\n",
      "\n",
      "    accuracy                           0.80      1999\n",
      "   macro avg       0.74      0.65      0.67      1999\n",
      "weighted avg       0.78      0.80      0.78      1999\n",
      "\n"
     ]
    }
   ],
   "source": [
    "print(classification_report(y,y_predict))"
   ]
  },
  {
   "cell_type": "code",
   "execution_count": 42,
   "metadata": {},
   "outputs": [
    {
     "data": {
      "text/plain": [
       "array([[1428,   94],\n",
       "       [ 302,  175]], dtype=int64)"
      ]
     },
     "execution_count": 42,
     "metadata": {},
     "output_type": "execute_result"
    }
   ],
   "source": [
    "cm = confusion_matrix(y, y_predict)\n",
    "cm"
   ]
  },
  {
   "cell_type": "code",
   "execution_count": 43,
   "metadata": {},
   "outputs": [
    {
     "data": {
      "image/png": "[encoded data removed]",
      "text/plain": [
       "<Figure size 432x288 with 1 Axes>"
      ]
     },
     "metadata": {
      "needs_background": "light"
     },
     "output_type": "display_data"
    }
   ],
   "source": [
    "# Criar uma figura e um eixo\n",
    "fig, ax = plt.subplots()\n",
    "\n",
    "# Criar a matriz de calor usando seaborn\n",
    "sns.heatmap(cm, annot=True, fmt=\"d\", cmap=\"Blues\", cbar=False)\n",
    "\n",
    "# Definir rótulos dos eixos\n",
    "ax.set_xlabel('Predicted')\n",
    "ax.set_ylabel('True')\n",
    "ax.xaxis.set_ticklabels(['adimplente', 'inadimplente'])\n",
    "ax.yaxis.set_ticklabels(['adimplente', 'inadimplente'])\n",
    "\n",
    "# Exibir a figura\n",
    "plt.show()"
   ]
  },
  {
   "cell_type": "code",
   "execution_count": 44,
   "metadata": {},
   "outputs": [
    {
     "data": {
      "image/png": "[encoded data removed]",
      "text/plain": [
       "<Figure size 720x576 with 1 Axes>"
      ]
     },
     "metadata": {
      "needs_background": "light"
     },
     "output_type": "display_data"
    }
   ],
   "source": [
    "# Calcular a curva ROC\n",
    "fpr, tpr, thresholds = roc_curve(y, y_prob)\n",
    "\n",
    "# Calcular a área sob a curva ROC (AUC)\n",
    "roc_auc = auc(fpr, tpr)\n",
    "\n",
    "# Plotar a curva ROC\n",
    "plt.figure(figsize=(10, 8))\n",
    "plt.plot(fpr, tpr, label='Curva ROC (AUC = %0.2f)' % roc_auc)\n",
    "plt.plot([0, 1], [0, 1], 'k--')  # Linha de referência diagonal\n",
    "plt.xlim([0.0, 1.0])\n",
    "plt.ylim([0.0, 1.05])\n",
    "plt.xlabel('Taxa de Falso Positivo')\n",
    "plt.ylabel('Taxa de Verdadeiro Positivo')\n",
    "plt.title('Curva ROC')\n",
    "plt.legend(loc=\"lower right\")\n",
    "plt.show()"
   ]
  },
  {
   "cell_type": "code",
   "execution_count": null,
   "metadata": {},
   "outputs": [],
   "source": []
  },
  {
   "cell_type": "code",
   "execution_count": null,
   "metadata": {},
   "outputs": [],
   "source": [
    "y_prob = sm_model.predict(x)\n"
   ]
  }
 ],
 "metadata": {
  "kernelspec": {
   "display_name": "base",
   "language": "python",
   "name": "python3"
  },
  "language_info": {
   "codemirror_mode": {
    "name": "ipython",
    "version": 3
   },
   "file_extension": ".py",
   "mimetype": "text/x-python",
   "name": "python",
   "nbconvert_exporter": "python",
   "pygments_lexer": "ipython3",
   "version": "3.9.12"
  },
  "orig_nbformat": 4,
  "vscode": {
   "interpreter": {
    "hash": "465bc43bf4cbae58c142e3527ff2b05702dd810bc8ebc4f627e0af6c067b87a4"
   }
  }
 },
 "nbformat": 4,
 "nbformat_minor": 2
}
