{
 "cells": [
  {
   "cell_type": "code",
   "execution_count": 4,
   "metadata": {},
   "outputs": [],
   "source": [
    "# Pagamento mediante a esforço de cobrança\n",
    "import pandas as pd\n",
    "import numpy as np\n",
    "\n",
    "import seaborn as sns\n",
    "import statsmodels.api as sm\n",
    "\n",
    "import matplotlib.pyplot as plt\n",
    "from sklearn.metrics import roc_curve, auc\n",
    "\n",
    "from sklearn.metrics import confusion_matrix\n",
    "from sklearn.metrics import roc_curve, auc\n",
    "\n",
    "%matplotlib inline"
   ]
  },
  {
   "cell_type": "code",
   "execution_count": 5,
   "metadata": {},
   "outputs": [],
   "source": [
    "import scorecardpy as sc"
   ]
  },
  {
   "cell_type": "code",
   "execution_count": 6,
   "metadata": {},
   "outputs": [],
   "source": [
    "fonte = 'https://raw.githubusercontent.com/Diego-Sarti-19/SSarti_Dados_GIT/main/Cred_Varejo.CSV?raw=true'"
   ]
  },
  {
   "cell_type": "code",
   "execution_count": 7,
   "metadata": {},
   "outputs": [],
   "source": [
    "data_set = pd.read_csv(fonte, sep =';')"
   ]
  },
  {
   "cell_type": "code",
   "execution_count": 9,
   "metadata": {},
   "outputs": [
    {
     "data": {
      "text/html": [
       "<div>\n",
       "<style scoped>\n",
       "    .dataframe tbody tr th:only-of-type {\n",
       "        vertical-align: middle;\n",
       "    }\n",
       "\n",
       "    .dataframe tbody tr th {\n",
       "        vertical-align: top;\n",
       "    }\n",
       "\n",
       "    .dataframe thead th {\n",
       "        text-align: right;\n",
       "    }\n",
       "</style>\n",
       "<table border=\"1\" class=\"dataframe\">\n",
       "  <thead>\n",
       "    <tr style=\"text-align: right;\">\n",
       "      <th></th>\n",
       "      <th>id</th>\n",
       "      <th>pagamento</th>\n",
       "      <th>estadocivil</th>\n",
       "      <th>idade</th>\n",
       "      <th>sexo</th>\n",
       "    </tr>\n",
       "  </thead>\n",
       "  <tbody>\n",
       "    <tr>\n",
       "      <th>0</th>\n",
       "      <td>85</td>\n",
       "      <td>1</td>\n",
       "      <td>0</td>\n",
       "      <td>20</td>\n",
       "      <td>0</td>\n",
       "    </tr>\n",
       "    <tr>\n",
       "      <th>1</th>\n",
       "      <td>86</td>\n",
       "      <td>1</td>\n",
       "      <td>0</td>\n",
       "      <td>34</td>\n",
       "      <td>1</td>\n",
       "    </tr>\n",
       "    <tr>\n",
       "      <th>2</th>\n",
       "      <td>87</td>\n",
       "      <td>1</td>\n",
       "      <td>0</td>\n",
       "      <td>21</td>\n",
       "      <td>1</td>\n",
       "    </tr>\n",
       "  </tbody>\n",
       "</table>\n",
       "</div>"
      ],
      "text/plain": [
       "   id  pagamento  estadocivil  idade  sexo\n",
       "0  85          1            0     20     0\n",
       "1  86          1            0     34     1\n",
       "2  87          1            0     21     1"
      ]
     },
     "execution_count": 9,
     "metadata": {},
     "output_type": "execute_result"
    }
   ],
   "source": [
    "data_set.head(3)"
   ]
  },
  {
   "cell_type": "code",
   "execution_count": 12,
   "metadata": {},
   "outputs": [
    {
     "name": "stdout",
     "output_type": "stream",
     "text": [
      "[INFO] creating woe binning ...\n"
     ]
    }
   ],
   "source": [
    "bins = sc.woebin(data_set[['pagamento','estadocivil', 'idade', 'sexo']],'pagamento')"
   ]
  },
  {
   "cell_type": "code",
   "execution_count": 13,
   "metadata": {},
   "outputs": [],
   "source": [
    "y = data_set['pagamento']\n",
    "x = data_set[['estadocivil', 'idade', 'sexo']]"
   ]
  },
  {
   "cell_type": "code",
   "execution_count": 14,
   "metadata": {},
   "outputs": [],
   "source": [
    "# acrescenta intercepto\n",
    "x = sm.add_constant(x)\n",
    "sm_model = sm.Logit(y, x).fit(disp=0)\n"
   ]
  },
  {
   "cell_type": "code",
   "execution_count": 15,
   "metadata": {},
   "outputs": [
    {
     "name": "stdout",
     "output_type": "stream",
     "text": [
      "const          7.992960e-02\n",
      "estadocivil    4.142547e-07\n",
      "idade          8.773147e-03\n",
      "sexo           3.010056e-03\n",
      "dtype: float64\n"
     ]
    }
   ],
   "source": [
    "# visualizando p_valor\n",
    "print(sm_model.pvalues)"
   ]
  },
  {
   "cell_type": "code",
   "execution_count": 16,
   "metadata": {},
   "outputs": [
    {
     "data": {
      "text/html": [
       "<table class=\"simpletable\">\n",
       "<caption>Logit Regression Results</caption>\n",
       "<tr>\n",
       "  <th>Dep. Variable:</th>       <td>pagamento</td>    <th>  No. Observations:  </th>  <td>   180</td>  \n",
       "</tr>\n",
       "<tr>\n",
       "  <th>Model:</th>                 <td>Logit</td>      <th>  Df Residuals:      </th>  <td>   176</td>  \n",
       "</tr>\n",
       "<tr>\n",
       "  <th>Method:</th>                 <td>MLE</td>       <th>  Df Model:          </th>  <td>     3</td>  \n",
       "</tr>\n",
       "<tr>\n",
       "  <th>Date:</th>            <td>Sat, 03 Jun 2023</td> <th>  Pseudo R-squ.:     </th>  <td>0.3106</td>  \n",
       "</tr>\n",
       "<tr>\n",
       "  <th>Time:</th>                <td>12:02:50</td>     <th>  Log-Likelihood:    </th> <td> -73.323</td> \n",
       "</tr>\n",
       "<tr>\n",
       "  <th>converged:</th>             <td>True</td>       <th>  LL-Null:           </th> <td> -106.35</td> \n",
       "</tr>\n",
       "<tr>\n",
       "  <th>Covariance Type:</th>     <td>nonrobust</td>    <th>  LLR p-value:       </th> <td>2.981e-14</td>\n",
       "</tr>\n",
       "</table>\n",
       "<table class=\"simpletable\">\n",
       "<tr>\n",
       "       <td></td>          <th>coef</th>     <th>std err</th>      <th>z</th>      <th>P>|z|</th>  <th>[0.025</th>    <th>0.975]</th>  \n",
       "</tr>\n",
       "<tr>\n",
       "  <th>const</th>       <td>   -1.9659</td> <td>    1.123</td> <td>   -1.751</td> <td> 0.080</td> <td>   -4.166</td> <td>    0.234</td>\n",
       "</tr>\n",
       "<tr>\n",
       "  <th>estadocivil</th> <td>   -2.9509</td> <td>    0.583</td> <td>   -5.062</td> <td> 0.000</td> <td>   -4.093</td> <td>   -1.808</td>\n",
       "</tr>\n",
       "<tr>\n",
       "  <th>idade</th>       <td>    0.1161</td> <td>    0.044</td> <td>    2.621</td> <td> 0.009</td> <td>    0.029</td> <td>    0.203</td>\n",
       "</tr>\n",
       "<tr>\n",
       "  <th>sexo</th>        <td>    1.3012</td> <td>    0.439</td> <td>    2.967</td> <td> 0.003</td> <td>    0.442</td> <td>    2.161</td>\n",
       "</tr>\n",
       "</table>"
      ],
      "text/plain": [
       "<class 'statsmodels.iolib.summary.Summary'>\n",
       "\"\"\"\n",
       "                           Logit Regression Results                           \n",
       "==============================================================================\n",
       "Dep. Variable:              pagamento   No. Observations:                  180\n",
       "Model:                          Logit   Df Residuals:                      176\n",
       "Method:                           MLE   Df Model:                            3\n",
       "Date:                Sat, 03 Jun 2023   Pseudo R-squ.:                  0.3106\n",
       "Time:                        12:02:50   Log-Likelihood:                -73.323\n",
       "converged:                       True   LL-Null:                       -106.35\n",
       "Covariance Type:            nonrobust   LLR p-value:                 2.981e-14\n",
       "===============================================================================\n",
       "                  coef    std err          z      P>|z|      [0.025      0.975]\n",
       "-------------------------------------------------------------------------------\n",
       "const          -1.9659      1.123     -1.751      0.080      -4.166       0.234\n",
       "estadocivil    -2.9509      0.583     -5.062      0.000      -4.093      -1.808\n",
       "idade           0.1161      0.044      2.621      0.009       0.029       0.203\n",
       "sexo            1.3012      0.439      2.967      0.003       0.442       2.161\n",
       "===============================================================================\n",
       "\"\"\""
      ]
     },
     "execution_count": 16,
     "metadata": {},
     "output_type": "execute_result"
    }
   ],
   "source": [
    "sm_model.summary()"
   ]
  },
  {
   "cell_type": "code",
   "execution_count": 17,
   "metadata": {},
   "outputs": [],
   "source": [
    "y_prob = sm_model.predict(x)\n",
    "# COnvertendo saída para um DataFrrame\n",
    "y_prob_df =pd.DataFrame(y_prob, columns=['probabilidade_y'])"
   ]
  },
  {
   "cell_type": "code",
   "execution_count": 18,
   "metadata": {},
   "outputs": [],
   "source": [
    "# Adiciona uma coluna com base em uma sentença condicional\n",
    "y_prob_df['previsto'] = [1 if probabilidade_y > 0.5 else '0' for probabilidade_y in y_prob_df['probabilidade_y']]\n",
    "y_predict = y_prob_df['previsto'].astype('int64')"
   ]
  },
  {
   "cell_type": "code",
   "execution_count": 19,
   "metadata": {},
   "outputs": [],
   "source": [
    "from sklearn.metrics import classification_report\n",
    "from sklearn.metrics import plot_confusion_matrix"
   ]
  },
  {
   "cell_type": "code",
   "execution_count": 20,
   "metadata": {},
   "outputs": [
    {
     "name": "stdout",
     "output_type": "stream",
     "text": [
      "              precision    recall  f1-score   support\n",
      "\n",
      "           0       0.83      0.48      0.61        50\n",
      "           1       0.83      0.96      0.89       130\n",
      "\n",
      "    accuracy                           0.83       180\n",
      "   macro avg       0.83      0.72      0.75       180\n",
      "weighted avg       0.83      0.83      0.81       180\n",
      "\n"
     ]
    }
   ],
   "source": [
    "print(classification_report(y,y_predict))"
   ]
  },
  {
   "cell_type": "code",
   "execution_count": 21,
   "metadata": {},
   "outputs": [
    {
     "data": {
      "image/png": "[encoded data removed]",
      "text/plain": [
       "<Figure size 720x576 with 1 Axes>"
      ]
     },
     "metadata": {
      "needs_background": "light"
     },
     "output_type": "display_data"
    }
   ],
   "source": [
    "# Calcular a curva ROC\n",
    "fpr, tpr, thresholds = roc_curve(y, y_prob)\n",
    "\n",
    "# Calcular a área sob a curva ROC (AUC)\n",
    "roc_auc = auc(fpr, tpr)\n",
    "\n",
    "# Plotar a curva ROC\n",
    "plt.figure(figsize=(10, 8))\n",
    "plt.plot(fpr, tpr, label='Curva ROC (AUC = %0.2f)' % roc_auc)\n",
    "plt.plot([0, 1], [0, 1], 'k--')  # Linha de referência diagonal\n",
    "plt.xlim([0.0, 1.0])\n",
    "plt.ylim([0.0, 1.05])\n",
    "plt.xlabel('Taxa de Falso Positivo')\n",
    "plt.ylabel('Taxa de Verdadeiro Positivo')\n",
    "plt.title('Curva ROC')\n",
    "plt.legend(loc=\"lower right\")\n",
    "plt.show()"
   ]
  },
  {
   "cell_type": "code",
   "execution_count": 22,
   "metadata": {},
   "outputs": [],
   "source": [
    "import pickle"
   ]
  },
  {
   "cell_type": "code",
   "execution_count": 23,
   "metadata": {},
   "outputs": [],
   "source": [
    "deploy = \"C:\\\\Users\\\\diego\\\\OneDrive\\\\Documentos_OneDrive\\\\Cod_bibliotecas\\\\LIT_Analise_Multivariada\\\\modelo_logit_classic.sav\""
   ]
  },
  {
   "cell_type": "code",
   "execution_count": 26,
   "metadata": {},
   "outputs": [],
   "source": [
    "# Salvar o modelo\n",
    "with open(deploy, 'wb') as arquivo:\n",
    "    pickle.dump(sm_model, arquivo)"
   ]
  },
  {
   "cell_type": "code",
   "execution_count": 27,
   "metadata": {},
   "outputs": [],
   "source": [
    "# Carregar o modelo\n",
    "with open(deploy, 'rb') as arquivo:\n",
    "    sm_model_carregado = pickle.load(arquivo)"
   ]
  },
  {
   "cell_type": "code",
   "execution_count": 49,
   "metadata": {},
   "outputs": [],
   "source": [
    "novos_valores_x = []\n",
    "\n",
    "# Valores constantes\n",
    "primeiro_valor = 1\n",
    "segundo_valor = 30\n",
    "terceiro_valor = 0\n"
   ]
  },
  {
   "cell_type": "code",
   "execution_count": 50,
   "metadata": {},
   "outputs": [],
   "source": [
    "# Estrutura de repetição\n",
    "for i in range(4):\n",
    "    novo_valor_x = [primeiro_valor, segundo_valor + i, terceiro_valor]\n",
    "    novos_valores_x.append(novo_valor_x)\n",
    "\n",
    "# Converter para um array numpy\n",
    "novos_valores_x = np.array(novos_valores_x)"
   ]
  },
  {
   "cell_type": "code",
   "execution_count": 51,
   "metadata": {},
   "outputs": [
    {
     "data": {
      "text/plain": [
       "array([[ 1, 30,  0],\n",
       "       [ 1, 31,  0],\n",
       "       [ 1, 32,  0],\n",
       "       [ 1, 33,  0]])"
      ]
     },
     "execution_count": 51,
     "metadata": {},
     "output_type": "execute_result"
    }
   ],
   "source": [
    "novos_valores_x"
   ]
  },
  {
   "cell_type": "code",
   "execution_count": 64,
   "metadata": {},
   "outputs": [],
   "source": [
    "novos_valores_x = np.array([[1, 30, 0], [0, 45, 1], [1, 35, 1]])\n",
    "novos_valores_x = sm.add_constant(novos_valores_x)"
   ]
  },
  {
   "cell_type": "code",
   "execution_count": 65,
   "metadata": {},
   "outputs": [
    {
     "data": {
      "text/plain": [
       "array([[ 1.,  1., 30.,  0.],\n",
       "       [ 1.,  0., 45.,  1.],\n",
       "       [ 1.,  1., 35.,  1.]])"
      ]
     },
     "execution_count": 65,
     "metadata": {},
     "output_type": "execute_result"
    }
   ],
   "source": [
    "novos_valores_x"
   ]
  },
  {
   "cell_type": "code",
   "execution_count": 56,
   "metadata": {},
   "outputs": [
    {
     "name": "stdout",
     "output_type": "stream",
     "text": [
      "[0.19270173 0.98966447 0.6104962 ]\n"
     ]
    }
   ],
   "source": [
    "# Fazer as previsões de y\n",
    "previsoes_y = sm_model.predict(novos_valores_x)\n",
    "\n",
    "# Exibir as previsões\n",
    "print(previsoes_y)"
   ]
  },
  {
   "cell_type": "code",
   "execution_count": 42,
   "metadata": {},
   "outputs": [],
   "source": [
    "# Criar array com os dois primeiros valores constantes\n",
    "primeiros_valores = np.array([1, 30])"
   ]
  },
  {
   "cell_type": "code",
   "execution_count": 43,
   "metadata": {},
   "outputs": [],
   "source": [
    "# Criar array com os terceiros valores crescentes\n",
    "terceiros_valores = np.arange(0, 1000, 10)"
   ]
  },
  {
   "cell_type": "code",
   "execution_count": 66,
   "metadata": {},
   "outputs": [],
   "source": [
    "novos_valores_x = []\n",
    "\n",
    "# Valores constantes\n",
    "primeiro_valor = 1\n",
    "segundo_valor = 30\n",
    "terceiro_valor = 0\n",
    "quarto_valor = 0"
   ]
  },
  {
   "cell_type": "code",
   "execution_count": 67,
   "metadata": {},
   "outputs": [],
   "source": [
    "for i in range(4):\n",
    "    novo_valor_x = [primeiro_valor, segundo_valor + i, terceiro_valor, quarto_valor]\n",
    "    novos_valores_x.append(novo_valor_x)"
   ]
  },
  {
   "cell_type": "code",
   "execution_count": 68,
   "metadata": {},
   "outputs": [],
   "source": [
    "novos_valores_x = np.array(novos_valores_x)\n",
    "novos_valores_x = sm.add_constant(novos_valores_x)"
   ]
  },
  {
   "cell_type": "code",
   "execution_count": 69,
   "metadata": {},
   "outputs": [
    {
     "data": {
      "text/plain": [
       "array([[ 1, 30,  0,  0],\n",
       "       [ 1, 31,  0,  0],\n",
       "       [ 1, 32,  0,  0],\n",
       "       [ 1, 33,  0,  0]])"
      ]
     },
     "execution_count": 69,
     "metadata": {},
     "output_type": "execute_result"
    }
   ],
   "source": [
    "novos_valores_x"
   ]
  },
  {
   "cell_type": "code",
   "execution_count": 72,
   "metadata": {},
   "outputs": [],
   "source": [
    "previsoes_y = sm_model_carregado.predict(novos_valores_x)\n"
   ]
  },
  {
   "cell_type": "code",
   "execution_count": 73,
   "metadata": {},
   "outputs": [
    {
     "data": {
      "text/plain": [
       "array([4.99841705e-40, 2.61368353e-41, 1.36670100e-42, 7.14651028e-44])"
      ]
     },
     "execution_count": 73,
     "metadata": {},
     "output_type": "execute_result"
    }
   ],
   "source": [
    "previsoes_y"
   ]
  }
 ],
 "metadata": {
  "kernelspec": {
   "display_name": "base",
   "language": "python",
   "name": "python3"
  },
  "language_info": {
   "codemirror_mode": {
    "name": "ipython",
    "version": 3
   },
   "file_extension": ".py",
   "mimetype": "text/x-python",
   "name": "python",
   "nbconvert_exporter": "python",
   "pygments_lexer": "ipython3",
   "version": "3.9.12"
  },
  "orig_nbformat": 4,
  "vscode": {
   "interpreter": {
    "hash": "465bc43bf4cbae58c142e3527ff2b05702dd810bc8ebc4f627e0af6c067b87a4"
   }
  }
 },
 "nbformat": 4,
 "nbformat_minor": 2
}
